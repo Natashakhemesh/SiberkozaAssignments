{
 "cells": [
  {
   "cell_type": "code",
   "execution_count": null,
   "id": "720ee391",
   "metadata": {},
   "outputs": [],
   "source": [
    "import pandas as pd\n",
    "from sklearn.tree import DecisionTreeClassifier\n",
    "from sklearn.externals import joblib \n",
    "\n",
    "\n",
    "# hobbies_data = pd.read_csv('hobbies.csv')\n",
    "# x = hobbies_data.drop(columns = ['Category'])\n",
    "# y = hobbies_data['Category']\n",
    "\n",
    "# model = DecisionTreeClassifier()\n",
    "# model.fit(x, y)\n",
    "\n",
    "# model = joblib.dump(model, 'hobbies-recommender.joblib')  \n",
    "model = joblib.load('hobbies-recommender.joblib')\n",
    "predictions = model.predict([[22, 0]])\n",
    "predictions"
   ]
  }
 ],
 "metadata": {
  "kernelspec": {
   "display_name": "Python 3 (ipykernel)",
   "language": "python",
   "name": "python3"
  },
  "language_info": {
   "codemirror_mode": {
    "name": "ipython",
    "version": 3
   },
   "file_extension": ".py",
   "mimetype": "text/x-python",
   "name": "python",
   "nbconvert_exporter": "python",
   "pygments_lexer": "ipython3",
   "version": "3.9.13"
  }
 },
 "nbformat": 4,
 "nbformat_minor": 5
}
